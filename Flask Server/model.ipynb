{
 "cells": [
  {
   "cell_type": "markdown",
   "metadata": {},
   "source": [
    "Flask Application"
   ]
  },
  {
   "cell_type": "code",
   "execution_count": 23,
   "metadata": {},
   "outputs": [
    {
     "name": "stdout",
     "output_type": "stream",
     "text": [
      "Requirement already satisfied: flask in c:\\users\\sanjay\\prostate-ui\\.venv\\lib\\site-packages (3.1.0)Note: you may need to restart the kernel to use updated packages.\n",
      "\n",
      "Requirement already satisfied: opencv-python-headless in c:\\users\\sanjay\\prostate-ui\\.venv\\lib\\site-packages (4.10.0.84)\n",
      "Requirement already satisfied: supervision in c:\\users\\sanjay\\prostate-ui\\.venv\\lib\\site-packages (0.25.1)\n",
      "Requirement already satisfied: roboflow in c:\\users\\sanjay\\prostate-ui\\.venv\\lib\\site-packages (1.1.54)\n",
      "Requirement already satisfied: numpy in c:\\users\\sanjay\\prostate-ui\\.venv\\lib\\site-packages (2.2.2)\n",
      "Requirement already satisfied: pillow in c:\\users\\sanjay\\prostate-ui\\.venv\\lib\\site-packages (11.1.0)\n",
      "Requirement already satisfied: Werkzeug>=3.1 in c:\\users\\sanjay\\prostate-ui\\.venv\\lib\\site-packages (from flask) (3.1.3)\n",
      "Requirement already satisfied: Jinja2>=3.1.2 in c:\\users\\sanjay\\prostate-ui\\.venv\\lib\\site-packages (from flask) (3.1.5)\n",
      "Requirement already satisfied: itsdangerous>=2.2 in c:\\users\\sanjay\\prostate-ui\\.venv\\lib\\site-packages (from flask) (2.2.0)\n",
      "Requirement already satisfied: click>=8.1.3 in c:\\users\\sanjay\\prostate-ui\\.venv\\lib\\site-packages (from flask) (8.1.8)\n",
      "Requirement already satisfied: blinker>=1.9 in c:\\users\\sanjay\\prostate-ui\\.venv\\lib\\site-packages (from flask) (1.9.0)\n",
      "Requirement already satisfied: contourpy>=1.3.0 in c:\\users\\sanjay\\prostate-ui\\.venv\\lib\\site-packages (from supervision) (1.3.1)\n",
      "Requirement already satisfied: defusedxml<0.8.0,>=0.7.1 in c:\\users\\sanjay\\prostate-ui\\.venv\\lib\\site-packages (from supervision) (0.7.1)\n",
      "Requirement already satisfied: matplotlib>=3.6.0 in c:\\users\\sanjay\\prostate-ui\\.venv\\lib\\site-packages (from supervision) (3.10.0)\n",
      "Requirement already satisfied: opencv-python>=4.5.5.64 in c:\\users\\sanjay\\prostate-ui\\.venv\\lib\\site-packages (from supervision) (4.11.0.86)\n",
      "Requirement already satisfied: pyyaml>=5.3 in c:\\users\\sanjay\\prostate-ui\\.venv\\lib\\site-packages (from supervision) (6.0.2)\n",
      "Requirement already satisfied: requests>=2.26.0 in c:\\users\\sanjay\\prostate-ui\\.venv\\lib\\site-packages (from supervision) (2.32.3)\n",
      "Requirement already satisfied: scipy<2.0.0,>=1.10.0 in c:\\users\\sanjay\\prostate-ui\\.venv\\lib\\site-packages (from supervision) (1.15.1)\n",
      "Requirement already satisfied: tqdm>=4.62.3 in c:\\users\\sanjay\\prostate-ui\\.venv\\lib\\site-packages (from supervision) (4.67.1)\n",
      "Requirement already satisfied: certifi in c:\\users\\sanjay\\prostate-ui\\.venv\\lib\\site-packages (from roboflow) (2025.1.31)\n",
      "Requirement already satisfied: idna==3.7 in c:\\users\\sanjay\\prostate-ui\\.venv\\lib\\site-packages (from roboflow) (3.7)\n",
      "Requirement already satisfied: cycler in c:\\users\\sanjay\\prostate-ui\\.venv\\lib\\site-packages (from roboflow) (0.12.1)\n",
      "Requirement already satisfied: kiwisolver>=1.3.1 in c:\\users\\sanjay\\prostate-ui\\.venv\\lib\\site-packages (from roboflow) (1.4.8)\n",
      "Requirement already satisfied: python-dateutil in c:\\users\\sanjay\\prostate-ui\\.venv\\lib\\site-packages (from roboflow) (2.9.0.post0)\n",
      "Requirement already satisfied: python-dotenv in c:\\users\\sanjay\\prostate-ui\\.venv\\lib\\site-packages (from roboflow) (1.0.1)\n",
      "Requirement already satisfied: six in c:\\users\\sanjay\\prostate-ui\\.venv\\lib\\site-packages (from roboflow) (1.17.0)\n",
      "Requirement already satisfied: urllib3>=1.26.6 in c:\\users\\sanjay\\prostate-ui\\.venv\\lib\\site-packages (from roboflow) (2.3.0)\n",
      "Requirement already satisfied: requests-toolbelt in c:\\users\\sanjay\\prostate-ui\\.venv\\lib\\site-packages (from roboflow) (1.0.0)\n",
      "Requirement already satisfied: filetype in c:\\users\\sanjay\\prostate-ui\\.venv\\lib\\site-packages (from roboflow) (1.2.0)\n",
      "Requirement already satisfied: colorama in c:\\users\\sanjay\\prostate-ui\\.venv\\lib\\site-packages (from click>=8.1.3->flask) (0.4.6)\n",
      "Requirement already satisfied: MarkupSafe>=2.0 in c:\\users\\sanjay\\prostate-ui\\.venv\\lib\\site-packages (from Jinja2>=3.1.2->flask) (3.0.2)\n",
      "Requirement already satisfied: fonttools>=4.22.0 in c:\\users\\sanjay\\prostate-ui\\.venv\\lib\\site-packages (from matplotlib>=3.6.0->supervision) (4.56.0)\n",
      "Requirement already satisfied: packaging>=20.0 in c:\\users\\sanjay\\prostate-ui\\.venv\\lib\\site-packages (from matplotlib>=3.6.0->supervision) (24.2)\n",
      "Requirement already satisfied: pyparsing>=2.3.1 in c:\\users\\sanjay\\prostate-ui\\.venv\\lib\\site-packages (from matplotlib>=3.6.0->supervision) (3.2.1)\n",
      "Requirement already satisfied: charset-normalizer<4,>=2 in c:\\users\\sanjay\\prostate-ui\\.venv\\lib\\site-packages (from requests>=2.26.0->supervision) (3.4.1)\n"
     ]
    }
   ],
   "source": [
    "%pip install flask opencv-python-headless supervision roboflow numpy pillow "
   ]
  },
  {
   "cell_type": "code",
   "execution_count": 1,
   "metadata": {},
   "outputs": [
    {
     "name": "stdout",
     "output_type": "stream",
     "text": [
      "Requirement already satisfied: roboflow in c:\\users\\sanjay\\prostate-ui\\.venv\\lib\\site-packages (1.1.54)Note: you may need to restart the kernel to use updated packages.\n",
      "\n",
      "Requirement already satisfied: supervision in c:\\users\\sanjay\\prostate-ui\\.venv\\lib\\site-packages (0.25.1)\n",
      "Requirement already satisfied: flask in c:\\users\\sanjay\\prostate-ui\\.venv\\lib\\site-packages (3.1.0)\n",
      "Requirement already satisfied: opencv-python-headless in c:\\users\\sanjay\\prostate-ui\\.venv\\lib\\site-packages (4.10.0.84)\n",
      "Requirement already satisfied: numpy in c:\\users\\sanjay\\prostate-ui\\.venv\\lib\\site-packages (2.2.2)\n",
      "Requirement already satisfied: Pillow in c:\\users\\sanjay\\prostate-ui\\.venv\\lib\\site-packages (11.1.0)\n",
      "Requirement already satisfied: certifi in c:\\users\\sanjay\\prostate-ui\\.venv\\lib\\site-packages (from roboflow) (2025.1.31)\n",
      "Requirement already satisfied: idna==3.7 in c:\\users\\sanjay\\prostate-ui\\.venv\\lib\\site-packages (from roboflow) (3.7)\n",
      "Requirement already satisfied: cycler in c:\\users\\sanjay\\prostate-ui\\.venv\\lib\\site-packages (from roboflow) (0.12.1)\n",
      "Requirement already satisfied: kiwisolver>=1.3.1 in c:\\users\\sanjay\\prostate-ui\\.venv\\lib\\site-packages (from roboflow) (1.4.8)\n",
      "Requirement already satisfied: matplotlib in c:\\users\\sanjay\\prostate-ui\\.venv\\lib\\site-packages (from roboflow) (3.10.0)\n",
      "Requirement already satisfied: python-dateutil in c:\\users\\sanjay\\prostate-ui\\.venv\\lib\\site-packages (from roboflow) (2.9.0.post0)\n",
      "Requirement already satisfied: python-dotenv in c:\\users\\sanjay\\prostate-ui\\.venv\\lib\\site-packages (from roboflow) (1.0.1)\n",
      "Requirement already satisfied: requests in c:\\users\\sanjay\\prostate-ui\\.venv\\lib\\site-packages (from roboflow) (2.32.3)\n",
      "Requirement already satisfied: six in c:\\users\\sanjay\\prostate-ui\\.venv\\lib\\site-packages (from roboflow) (1.17.0)\n",
      "Requirement already satisfied: urllib3>=1.26.6 in c:\\users\\sanjay\\prostate-ui\\.venv\\lib\\site-packages (from roboflow) (2.3.0)\n",
      "Requirement already satisfied: tqdm>=4.41.0 in c:\\users\\sanjay\\prostate-ui\\.venv\\lib\\site-packages (from roboflow) (4.67.1)\n",
      "Requirement already satisfied: PyYAML>=5.3.1 in c:\\users\\sanjay\\prostate-ui\\.venv\\lib\\site-packages (from roboflow) (6.0.2)\n",
      "Requirement already satisfied: requests-toolbelt in c:\\users\\sanjay\\prostate-ui\\.venv\\lib\\site-packages (from roboflow) (1.0.0)\n",
      "Requirement already satisfied: filetype in c:\\users\\sanjay\\prostate-ui\\.venv\\lib\\site-packages (from roboflow) (1.2.0)\n",
      "Requirement already satisfied: contourpy>=1.3.0 in c:\\users\\sanjay\\prostate-ui\\.venv\\lib\\site-packages (from supervision) (1.3.1)\n",
      "Requirement already satisfied: defusedxml<0.8.0,>=0.7.1 in c:\\users\\sanjay\\prostate-ui\\.venv\\lib\\site-packages (from supervision) (0.7.1)\n",
      "Requirement already satisfied: opencv-python>=4.5.5.64 in c:\\users\\sanjay\\prostate-ui\\.venv\\lib\\site-packages (from supervision) (4.11.0.86)\n",
      "Requirement already satisfied: scipy<2.0.0,>=1.10.0 in c:\\users\\sanjay\\prostate-ui\\.venv\\lib\\site-packages (from supervision) (1.15.1)\n",
      "Requirement already satisfied: Werkzeug>=3.1 in c:\\users\\sanjay\\prostate-ui\\.venv\\lib\\site-packages (from flask) (3.1.3)\n",
      "Requirement already satisfied: Jinja2>=3.1.2 in c:\\users\\sanjay\\prostate-ui\\.venv\\lib\\site-packages (from flask) (3.1.5)\n",
      "Requirement already satisfied: itsdangerous>=2.2 in c:\\users\\sanjay\\prostate-ui\\.venv\\lib\\site-packages (from flask) (2.2.0)\n",
      "Requirement already satisfied: click>=8.1.3 in c:\\users\\sanjay\\prostate-ui\\.venv\\lib\\site-packages (from flask) (8.1.8)\n",
      "Requirement already satisfied: blinker>=1.9 in c:\\users\\sanjay\\prostate-ui\\.venv\\lib\\site-packages (from flask) (1.9.0)\n",
      "Requirement already satisfied: colorama in c:\\users\\sanjay\\prostate-ui\\.venv\\lib\\site-packages (from click>=8.1.3->flask) (0.4.6)\n",
      "Requirement already satisfied: MarkupSafe>=2.0 in c:\\users\\sanjay\\prostate-ui\\.venv\\lib\\site-packages (from Jinja2>=3.1.2->flask) (3.0.2)\n",
      "Requirement already satisfied: fonttools>=4.22.0 in c:\\users\\sanjay\\prostate-ui\\.venv\\lib\\site-packages (from matplotlib->roboflow) (4.56.0)\n",
      "Requirement already satisfied: packaging>=20.0 in c:\\users\\sanjay\\prostate-ui\\.venv\\lib\\site-packages (from matplotlib->roboflow) (24.2)\n",
      "Requirement already satisfied: pyparsing>=2.3.1 in c:\\users\\sanjay\\prostate-ui\\.venv\\lib\\site-packages (from matplotlib->roboflow) (3.2.1)\n",
      "Requirement already satisfied: charset-normalizer<4,>=2 in c:\\users\\sanjay\\prostate-ui\\.venv\\lib\\site-packages (from requests->roboflow) (3.4.1)\n"
     ]
    }
   ],
   "source": [
    "%pip install roboflow supervision flask opencv-python-headless numpy Pillow\n"
   ]
  },
  {
   "cell_type": "code",
   "execution_count": 2,
   "metadata": {},
   "outputs": [
    {
     "name": "stdout",
     "output_type": "stream",
     "text": [
      "loading Roboflow workspace...\n",
      "loading Roboflow project...\n"
     ]
    },
    {
     "name": "stderr",
     "output_type": "stream",
     "text": [
      "WARNING: This is a development server. Do not use it in a production deployment. Use a production WSGI server instead.\n",
      " * Running on all addresses (0.0.0.0)\n",
      " * Running on http://127.0.0.1:5000\n",
      " * Running on http://192.168.201.73:5000\n",
      "Press CTRL+C to quit\n",
      "127.0.0.1 - - [14/Feb/2025 22:38:01] \"POST /process HTTP/1.1\" 404 -\n"
     ]
    }
   ],
   "source": [
    "from roboflow import Roboflow\n",
    "import supervision as sv\n",
    "import cv2\n",
    "import numpy as np\n",
    "from flask import Flask, request, jsonify\n",
    "import base64\n",
    "import io\n",
    "from PIL import Image\n",
    "from werkzeug.serving import run_simple\n",
    "\n",
    "# Initialize Roboflow with your API key\n",
    "rf = Roboflow(api_key=\"8Qa7KjefjGCaCBRyRn7D\")\n",
    "project = rf.workspace().project(\"tissue-v2\")\n",
    "model = project.version(4).model  # Load model version 4\n",
    "\n",
    "app = Flask(__name__)\n",
    "\n",
    "def resize_image(image, max_size=800):\n",
    "    \"\"\"Resize the image to a maximum size while maintaining aspect ratio.\"\"\"\n",
    "    height, width = image.shape[:2]\n",
    "    if max(height, width) > max_size:\n",
    "        scale = max_size / max(height, width)\n",
    "        new_width = int(width * scale)\n",
    "        new_height = int(height * scale)\n",
    "        image = cv2.resize(image, (new_width, new_height))\n",
    "    return image\n",
    "\n",
    "@app.route('/infer', methods=['POST'])\n",
    "def infer():\n",
    "    try:\n",
    "        # Load the image from the request\n",
    "        file = request.files['file']\n",
    "        image = cv2.imdecode(np.frombuffer(file.read(), np.uint8), cv2.IMREAD_COLOR)\n",
    "        \n",
    "        # Resize the image to avoid size issues\n",
    "        image = resize_image(image)\n",
    "\n",
    "        # Save the resized image to a temporary file\n",
    "        temp_image_path = \"temp_image.jpg\"\n",
    "        cv2.imwrite(temp_image_path, image)\n",
    "\n",
    "        # Perform inference with Roboflow using the image file\n",
    "        response = model.predict(temp_image_path, hosted=True).json()\n",
    "\n",
    "        # Parse the response into Supervision Detections format\n",
    "        detections = sv.Detections.from_roboflow(response)\n",
    "\n",
    "        # Annotate the image with bounding boxes\n",
    "        box_annotator = sv.BoxAnnotator()\n",
    "        annotated_image = box_annotator.annotate(scene=image, detections=detections)\n",
    "\n",
    "        # Convert the annotated image to base64\n",
    "        _, annotated_buffer = cv2.imencode('.jpg', annotated_image)\n",
    "        annotated_base64 = base64.b64encode(annotated_buffer).decode('utf-8')\n",
    "\n",
    "        # Return the base64-encoded annotated image as JSON\n",
    "        return jsonify({\"annotated_image\": annotated_base64})\n",
    "\n",
    "    except Exception as e:\n",
    "        return jsonify({\"error\": str(e)}), 500\n",
    "\n",
    "# Run the server with Werkzeug for Jupyter compatibility\n",
    "if __name__ == '__main__':\n",
    "    run_simple('0.0.0.0', 5000, app)\n"
   ]
  }
 ],
 "metadata": {
  "kernelspec": {
   "display_name": ".venv",
   "language": "python",
   "name": "python3"
  },
  "language_info": {
   "codemirror_mode": {
    "name": "ipython",
    "version": 3
   },
   "file_extension": ".py",
   "mimetype": "text/x-python",
   "name": "python",
   "nbconvert_exporter": "python",
   "pygments_lexer": "ipython3",
   "version": "3.13.2"
  }
 },
 "nbformat": 4,
 "nbformat_minor": 2
}
